{
  "nbformat": 4,
  "nbformat_minor": 0,
  "metadata": {
    "accelerator": "GPU",
    "colab": {
      "name": "proj2code.ipynb",
      "provenance": [],
      "collapsed_sections": []
    },
    "kernelspec": {
      "display_name": "Python 3",
      "language": "python",
      "name": "python3"
    },
    "language_info": {
      "codemirror_mode": {
        "name": "ipython",
        "version": 3
      },
      "file_extension": ".py",
      "mimetype": "text/x-python",
      "name": "python",
      "nbconvert_exporter": "python",
      "pygments_lexer": "ipython3",
      "version": "3.6.5"
    }
  },
  "cells": [
    {
      "cell_type": "markdown",
      "metadata": {
        "id": "JRy-LeaAbFR-",
        "colab_type": "text"
      },
      "source": [
        "**PART 1 - NEURAL NETWORK FROM SCRATCH**"
      ]
    },
    {
      "cell_type": "code",
      "metadata": {
        "colab_type": "code",
        "id": "BHSJPgmQPAg8",
        "outputId": "7eafb253-c7a3-4986-90d5-0534992a08a2",
        "colab": {
          "base_uri": "https://localhost:8080/",
          "height": 185
        }
      },
      "source": [
        "# Command to unzip data folder for running in Google Colab\n",
        "\n",
        "!unzip data_with_notebook.zip"
      ],
      "execution_count": 0,
      "outputs": [
        {
          "output_type": "stream",
          "text": [
            "Archive:  data_with_notebook.zip\n",
            "   creating: data/\n",
            "   creating: data/fashion/\n",
            "  inflating: data/fashion/t10k-images-idx3-ubyte.gz  \n",
            "  inflating: data/fashion/t10k-labels-idx1-ubyte.gz  \n",
            "  inflating: data/fashion/train-images-idx3-ubyte.gz  \n",
            "  inflating: data/fashion/train-labels-idx1-ubyte.gz  \n",
            "   creating: scripts/\n",
            "  inflating: scripts/fashion_mnist_reader.ipynb  \n",
            "  inflating: scripts/util_mnist_reader.py  \n"
          ],
          "name": "stdout"
        }
      ]
    },
    {
      "cell_type": "code",
      "metadata": {
        "colab_type": "code",
        "id": "6Szx9RqNPI4x",
        "colab": {}
      },
      "source": [
        "# Function to load the data\n",
        "def load_mnist(path, kind='train'):\n",
        "    import os\n",
        "    import gzip\n",
        "    import numpy as np\n",
        "\n",
        "    \"\"\"Load MNIST data from `path`\"\"\"\n",
        "    labels_path = os.path.join(path,\n",
        "                               '%s-labels-idx1-ubyte.gz'\n",
        "                               % kind)\n",
        "    images_path = os.path.join(path,\n",
        "                               '%s-images-idx3-ubyte.gz'\n",
        "                               % kind)\n",
        "\n",
        "    with gzip.open(labels_path, 'rb') as lbpath:\n",
        "        labels = np.frombuffer(lbpath.read(), dtype=np.uint8,\n",
        "                               offset=8)\n",
        "\n",
        "    with gzip.open(images_path, 'rb') as imgpath:\n",
        "        images = np.frombuffer(imgpath.read(), dtype=np.uint8,\n",
        "                               offset=16).reshape(len(labels), 784)\n",
        "\n",
        "    return images, labels"
      ],
      "execution_count": 0,
      "outputs": []
    },
    {
      "cell_type": "code",
      "metadata": {
        "colab_type": "code",
        "id": "CLprWBnBPKsl",
        "colab": {}
      },
      "source": [
        "# Splitting into training and testing data\n",
        "X_train, y_train = load_mnist('data/fashion', kind='train')\n",
        "X_test, y_test = load_mnist('data/fashion', kind='t10k')"
      ],
      "execution_count": 0,
      "outputs": []
    },
    {
      "cell_type": "code",
      "metadata": {
        "colab_type": "code",
        "id": "h9tcNZ1fPMk2",
        "outputId": "90983cd8-e656-4b04-fd6f-b78bba5f1c45",
        "colab": {
          "base_uri": "https://localhost:8080/",
          "height": 50
        }
      },
      "source": [
        "print(X_train.shape)\n",
        "print(y_train.shape)"
      ],
      "execution_count": 0,
      "outputs": [
        {
          "output_type": "stream",
          "text": [
            "(60000, 784)\n",
            "(60000,)\n"
          ],
          "name": "stdout"
        }
      ]
    },
    {
      "cell_type": "code",
      "metadata": {
        "colab_type": "code",
        "id": "KQqYLyroPPy9",
        "outputId": "eb245399-3608-463e-ff72-f855c54d9a66",
        "colab": {
          "base_uri": "https://localhost:8080/",
          "height": 50
        }
      },
      "source": [
        "import numpy as np\n",
        "\n",
        "m1 = X_train.shape[0] # Training set size\n",
        "m2 = X_test.shape[0] # Testing set size\n",
        "labels = 10 # Number of output labels\n",
        "\n",
        "y_train = y_train.reshape(1,m1) # Reshaping to 1*60000\n",
        "y_test = y_test.reshape(1,m2) # Reshaping to 1*10000\n",
        "\n",
        "'''One hot encoding the training labels'''\n",
        "Y_train_new = np.eye(labels)[y_train.astype('int32')]\n",
        "Y_train_new = Y_train_new.T.reshape(labels, m1)\n",
        "\n",
        "'''One hot encoding the training labels'''\n",
        "Y_test_new = np.eye(labels)[y_test.astype('int32')]\n",
        "Y_test_new = Y_test_new.T.reshape(labels, m2)\n",
        "\n",
        "print(\"Y_train_new shape \", Y_train_new.shape)\n",
        "print(\"Y_test_new shape \", Y_test_new.shape)"
      ],
      "execution_count": 0,
      "outputs": [
        {
          "output_type": "stream",
          "text": [
            "Y_train_new shape  (10, 60000)\n",
            "Y_test_new shape  (10, 10000)\n"
          ],
          "name": "stdout"
        }
      ]
    },
    {
      "cell_type": "code",
      "metadata": {
        "colab_type": "code",
        "id": "Y17v9TbLPRvB",
        "colab": {}
      },
      "source": [
        "import numpy as np\n",
        "\n",
        "'''Implementation of the sigmoid function'''\n",
        "def sigmoid(x):\n",
        "    \n",
        "    val= (1/(1+np.exp(-1*x)))    \n",
        "    \n",
        "    return val\n",
        "\n",
        "'''Implementation of the softmax function'''\n",
        "def softmax(x):\n",
        "  \n",
        "  val = np.exp(x) / np.sum(np.exp(x), axis=1, keepdims=True)\n",
        "\n",
        "  return val\n",
        "\n",
        "'''Loss function for multi-class data'''\n",
        "def compute_multiclass_loss(Y, Y_hat,learning_rate,w1,w2):\n",
        "\n",
        "    Y = Y.reshape(60000,10)\n",
        "    m = Y.shape[0]\n",
        "    \n",
        "    log_term = (-1)*np.sum(np.multiply(Y, np.log(Y_hat)))\n",
        "    \n",
        "    p1 = log_term/m\n",
        "\n",
        "    w1 = np.square(w1)\n",
        "    w2 = np.square(w2)\n",
        "    ts1 = np.sum(w1) + np.sum(w2) \n",
        "\n",
        "    L = p1 + (learning_rate/(2*m))*ts1\n",
        "\n",
        "    return L\n",
        "'''Training the model'''\n",
        "def train(X_train, y_train):\n",
        "  \n",
        "  input_size = X_train.shape[0]\n",
        "  flat = X_train.shape[1] # Input dimensions after flattening\n",
        "  m = X_train.shape[0]\n",
        "  hidden = 64\n",
        "  classes = 10\n",
        "\n",
        "  learning_rate = 0.05\n",
        "  epochs = 4000\n",
        "\n",
        "  '''Random initialization of weights and biases'''\n",
        "  W1 = np.random.rand(flat, hidden) * 0.01\n",
        "  b1 = np.zeros((hidden))\n",
        "  W2 = np.random.rand(hidden, classes) * 0.01\n",
        "  b2 = np.zeros((classes))\n",
        "\n",
        "  losstrack = [] # To keep track of the losses\n",
        "\n",
        "  for epoch in range(epochs):\n",
        "\n",
        "      '''Forward propagation'''\n",
        "      Z1 = np.dot(X_train, W1) + b1 # Output of hidden layer\n",
        "      A1 = sigmoid(Z1) # Sigmoid of output of hidden layer\n",
        "      Z2 = np.dot(A1, W2) + b2 # Final predictions\n",
        "      A2 = softmax(Z2) # Softmax of final predictions\n",
        "   \n",
        "      cost = compute_multiclass_loss(y_train, A2, learning_rate, W1, W2)\n",
        "      losstrack.append(cost)\n",
        "    \n",
        "      '''Back propagation'''\n",
        "      '''Calculating the derivates''''\n",
        "      dZ2 = A2 - y_train.T\n",
        "      dW2 = (1./m) * np.dot(A1.T, dZ2)\n",
        "      db2 = (1./m) * np.sum(dZ2, axis=0, keepdims=True)\n",
        "           \n",
        "      dA1 = np.dot(dZ2, W2.T)\n",
        "      dZ1 = dA1 * sigmoid(Z1) * (1 - sigmoid(Z1))\n",
        "      dW1 = (1./m) * np.dot(X_train.T, dZ1)\n",
        "      db1 = (1./m) * np.sum(dZ1, axis=0, keepdims=True)\n",
        "    \n",
        "      '''Updating the weights and biases'''\n",
        "      W2 = W2 - learning_rate * dW2\n",
        "      b2 = b2 - learning_rate * db2\n",
        "      W1 = W1 - learning_rate * dW1\n",
        "      b1 = b1 - learning_rate * db1\n",
        "      \n",
        "      if epoch % 100 == 0:\n",
        "        print(\"For Epoch\", epoch, \"cost = \", cost)\n",
        "     \n",
        "  return W1, b1, W2, b2, losstrack"
      ],
      "execution_count": 0,
      "outputs": []
    },
    {
      "cell_type": "code",
      "metadata": {
        "colab_type": "code",
        "id": "9KSQ-tASPUD0",
        "outputId": "26fe129f-fd01-46e6-8a1e-261f47f10a35",
        "colab": {
          "base_uri": "https://localhost:8080/",
          "height": 689
        }
      },
      "source": [
        "W1, b1, W2, b2, losstrack = train(X_train, Y_train_new)"
      ],
      "execution_count": 0,
      "outputs": [
        {
          "output_type": "stream",
          "text": [
            "For Epoch 0 cost =  2.3027183854749143\n",
            "For Epoch 100 cost =  2.302585799751605\n",
            "For Epoch 200 cost =  2.302585799751605\n",
            "For Epoch 300 cost =  2.302585799751605\n",
            "For Epoch 400 cost =  2.302585799751605\n",
            "For Epoch 500 cost =  2.3025857997516055\n",
            "For Epoch 600 cost =  2.3025857997516055\n",
            "For Epoch 700 cost =  2.302585799751605\n",
            "For Epoch 800 cost =  2.302585799751605\n",
            "For Epoch 900 cost =  2.302585799751605\n",
            "For Epoch 1000 cost =  2.3025857997516055\n",
            "For Epoch 1100 cost =  2.302585799751605\n",
            "For Epoch 1200 cost =  2.3025857997516055\n",
            "For Epoch 1300 cost =  2.302585799751605\n",
            "For Epoch 1400 cost =  2.302585799751605\n",
            "For Epoch 1500 cost =  2.302585799751605\n",
            "For Epoch 1600 cost =  2.302585799751605\n",
            "For Epoch 1700 cost =  2.3025857997516055\n",
            "For Epoch 1800 cost =  2.302585799751605\n",
            "For Epoch 1900 cost =  2.302585799751605\n",
            "For Epoch 2000 cost =  2.302585799751605\n",
            "For Epoch 2100 cost =  2.3025857997516055\n",
            "For Epoch 2200 cost =  2.302585799751605\n",
            "For Epoch 2300 cost =  2.302585799751605\n",
            "For Epoch 2400 cost =  2.302585799751605\n",
            "For Epoch 2500 cost =  2.3025857997516055\n",
            "For Epoch 2600 cost =  2.302585799751605\n",
            "For Epoch 2700 cost =  2.302585799751605\n",
            "For Epoch 2800 cost =  2.3025857997516055\n",
            "For Epoch 2900 cost =  2.3025857997516055\n",
            "For Epoch 3000 cost =  2.3025857997516055\n",
            "For Epoch 3100 cost =  2.3025857997516055\n",
            "For Epoch 3200 cost =  2.3025857997516055\n",
            "For Epoch 3300 cost =  2.302585799751605\n",
            "For Epoch 3400 cost =  2.302585799751605\n",
            "For Epoch 3500 cost =  2.3025857997516055\n",
            "For Epoch 3600 cost =  2.3025857997516055\n",
            "For Epoch 3700 cost =  2.3025857997516055\n",
            "For Epoch 3800 cost =  2.3025857997516055\n",
            "For Epoch 3900 cost =  2.302585799751605\n"
          ],
          "name": "stdout"
        }
      ]
    },
    {
      "cell_type": "code",
      "metadata": {
        "colab_type": "code",
        "id": "4NSjozYGs4yZ",
        "outputId": "a0811e3f-f6c2-458e-af4a-82d3a3f6b83c",
        "colab": {
          "base_uri": "https://localhost:8080/",
          "height": 307
        }
      },
      "source": [
        "import matplotlib.pyplot as plt\n",
        "\n",
        "plt.plot(losstrack)\n",
        "plt.xlabel(\"Epochs\")\n",
        "plt.ylabel(\"Training_Loss\")"
      ],
      "execution_count": 0,
      "outputs": [
        {
          "output_type": "execute_result",
          "data": {
            "text/plain": [
              "Text(0, 0.5, 'Training_Loss')"
            ]
          },
          "metadata": {
            "tags": []
          },
          "execution_count": 9
        },
        {
          "output_type": "display_data",
          "data": {
            "image/png": "[encoded data removed]",
            "text/plain": [
              "<Figure size 432x288 with 1 Axes>"
            ]
          },
          "metadata": {
            "tags": []
          }
        }
      ]
    },
    {
      "cell_type": "code",
      "metadata": {
        "colab_type": "code",
        "id": "XXbztXExPLGi",
        "colab": {}
      },
      "source": [
        "'''Finding the label with max probability prediction'''\n",
        "def class_predictions(A):\n",
        "\n",
        "  max_row_val = np.zeros(A.shape[0]) # No of rows of A\n",
        "\n",
        "  for i in range(len(A)): # For each row\n",
        "\n",
        "    maximum = np.NINF\n",
        "    max_indx = -1\n",
        "\n",
        "    for j in range(len(A[0])): # For each column\n",
        "      \n",
        "      if ( A[i][j] > maximum ):\n",
        "        \n",
        "        maximum = A[i][j]\n",
        "        max_indx = j\n",
        "\n",
        "    np.append(max_row_val, max_indx)\n",
        "\n",
        "    return max_row_val\n",
        "\n",
        "def test(X_test, y_test, W1, b1, W2, b2):\n",
        "\n",
        "  count = 0\n",
        "  test_size = y_test.shape[0]\n",
        "\n",
        "  Zt1 = np.dot(X_test, W1) + b1\n",
        "  At1 = sigmoid(Zt1)\n",
        "\n",
        "  Zt2 = np.dot(At1, W2) + b2\n",
        "  At2 = softmax(Zt2)\n",
        "\n",
        "  predictions = class_predictions(At2) # Converting our matrix of predictions into single valued predictions for each sample\n",
        "\n",
        "  for i in range(test_size):\n",
        "\n",
        "    if (predictions[i] == y_test[i]):\n",
        "      count = count + 1\n",
        "  \n",
        "  accuracy = count/test_size\n",
        "\n",
        "  return accuracy"
      ],
      "execution_count": 0,
      "outputs": []
    },
    {
      "cell_type": "code",
      "metadata": {
        "colab_type": "code",
        "id": "Zhs8x4nuSTVP",
        "colab": {}
      },
      "source": [
        "accuracy = test(X_test, y_test_copy, W1, b1, W2, b2)"
      ],
      "execution_count": 0,
      "outputs": []
    },
    {
      "cell_type": "code",
      "metadata": {
        "colab_type": "code",
        "id": "P3zbwuW6TV3C",
        "outputId": "c78a45f8-d56b-47e6-a18f-aefe45108b85",
        "colab": {
          "base_uri": "https://localhost:8080/",
          "height": 34
        }
      },
      "source": [
        "print(\"Testing accuracy is \", accuracy)"
      ],
      "execution_count": 0,
      "outputs": [
        {
          "output_type": "stream",
          "text": [
            "Testing accuracy is  72.58\n"
          ],
          "name": "stdout"
        }
      ]
    },
    {
      "cell_type": "markdown",
      "metadata": {
        "id": "wDTXie0EbMqd",
        "colab_type": "text"
      },
      "source": [
        "**PART 2 - MULTI-LAYER NEURAL NETWORK USING KERAS**"
      ]
    },
    {
      "cell_type": "code",
      "metadata": {
        "id": "nYecv6DiIy_6",
        "colab_type": "code",
        "outputId": "2eee3a3b-9db3-42e8-beb1-0f08eaf17e82",
        "colab": {
          "base_uri": "https://localhost:8080/",
          "height": 185
        }
      },
      "source": [
        "!unzip data_with_notebook.zip"
      ],
      "execution_count": 0,
      "outputs": [
        {
          "output_type": "stream",
          "text": [
            "Archive:  data_with_notebook.zip\n",
            "   creating: data/\n",
            "   creating: data/fashion/\n",
            "  inflating: data/fashion/t10k-images-idx3-ubyte.gz  \n",
            "  inflating: data/fashion/t10k-labels-idx1-ubyte.gz  \n",
            "  inflating: data/fashion/train-images-idx3-ubyte.gz  \n",
            "  inflating: data/fashion/train-labels-idx1-ubyte.gz  \n",
            "   creating: scripts/\n",
            "  inflating: scripts/fashion_mnist_reader.ipynb  \n",
            "  inflating: scripts/util_mnist_reader.py  \n"
          ],
          "name": "stdout"
        }
      ]
    },
    {
      "cell_type": "code",
      "metadata": {
        "id": "KT8nW7q7f3zH",
        "colab_type": "code",
        "colab": {}
      },
      "source": [
        "def load_mnist(path, kind='train'):\n",
        "    import os\n",
        "    import gzip\n",
        "    import numpy as np\n",
        "\n",
        "    \"\"\"Load MNIST data from `path`\"\"\"\n",
        "    labels_path = os.path.join(path,\n",
        "                               '%s-labels-idx1-ubyte.gz'\n",
        "                               % kind)\n",
        "    images_path = os.path.join(path,\n",
        "                               '%s-images-idx3-ubyte.gz'\n",
        "                               % kind)\n",
        "\n",
        "    with gzip.open(labels_path, 'rb') as lbpath:\n",
        "        labels = np.frombuffer(lbpath.read(), dtype=np.uint8,\n",
        "                               offset=8)\n",
        "\n",
        "    with gzip.open(images_path, 'rb') as imgpath:\n",
        "        images = np.frombuffer(imgpath.read(), dtype=np.uint8,\n",
        "                               offset=16).reshape(len(labels), 784)\n",
        "\n",
        "    return images, labels"
      ],
      "execution_count": 0,
      "outputs": []
    },
    {
      "cell_type": "code",
      "metadata": {
        "id": "-__MJMrJf6ER",
        "colab_type": "code",
        "colab": {}
      },
      "source": [
        "X_train, y_train = load_mnist('data/fashion', kind='train')\n",
        "X_test, y_test = load_mnist('data/fashion', kind='t10k')"
      ],
      "execution_count": 0,
      "outputs": []
    },
    {
      "cell_type": "code",
      "metadata": {
        "id": "8un4t8Eof6Hn",
        "colab_type": "code",
        "outputId": "e9576829-28d8-421e-b336-aec06d1b1ac2",
        "colab": {
          "base_uri": "https://localhost:8080/",
          "height": 1000
        }
      },
      "source": [
        "import tensorflow as tf\n",
        "from tensorflow import keras\n",
        "from tensorflow.keras import layers, models\n",
        "from tensorflow.keras.models import load_model\n",
        "from keras.callbacks import TensorBoard\n",
        "import os\n",
        "import numpy as np\n",
        "import matplotlib.pyplot as plt\n",
        "from sklearn.metrics import confusion_matrix\n",
        "\n",
        "class_names = ['T-shirt/top', 'Trouser', 'Pullover', 'Dress', 'Coat', \n",
        "               'Sandal', 'Shirt', 'Sneaker', 'Bag', 'Ankle boot']\n",
        "\n",
        "model = models.Sequential()\n",
        "fc = layers.Dense(128, activation='relu', input_dim=784)\n",
        "fc2 = layers.Dense(128 ,activation='relu')\n",
        "output = layers.Dense(10, 'softmax')\n",
        "model.add(fc)\n",
        "model.add(fc2)\n",
        "model.add(output)\n",
        "model.summary()\n",
        "model.compile(optimizer='adam',\n",
        "             loss='sparse_categorical_crossentropy',\n",
        "             metrics=['accuracy'])\n",
        "history = model.fit(X_train,y_train,epochs=10,\n",
        "         batch_size=100,\n",
        "         validation_data=(X_test,y_test)\n",
        "         )\n",
        "test_loss, test_accuracy = model.evaluate(X_test, y_test)\n",
        "print(\"\\nTesting accuracy is : \", test_accuracy * 100)\n",
        "\n",
        "# list all data in history\n",
        "print(history.history.keys())\n",
        "\n",
        "# summarize history for accuracy\n",
        "plt.plot(history.history['acc'])\n",
        "plt.plot(history.history['val_acc'])\n",
        "plt.title('Model accuracy')\n",
        "plt.ylabel('Accuracy')\n",
        "plt.xlabel('Epochs')\n",
        "plt.legend(['Train', 'Test'], loc='upper left')\n",
        "plt.show()\n",
        "\n",
        "# summarize history for loss\n",
        "plt.plot(history.history['loss'])\n",
        "plt.plot(history.history['val_loss'])\n",
        "plt.title('Model loss')\n",
        "plt.ylabel('Loss')\n",
        "plt.xlabel('Epochs')\n",
        "plt.legend(['Train', 'Test'], loc='upper left')\n",
        "plt.show()\n",
        "\n",
        "# Predicting the Test set results\n",
        "y_pred = model.predict(X_test)\n",
        "cm = confusion_matrix(y_test, y_pred.argmax(axis=1))\n",
        "print(\"Confusion matrix is\\n\", cm)"
      ],
      "execution_count": 3,
      "outputs": [
        {
          "output_type": "stream",
          "text": [
            "Using TensorFlow backend.\n"
          ],
          "name": "stderr"
        },
        {
          "output_type": "stream",
          "text": [
            "WARNING:tensorflow:From /usr/local/lib/python3.6/dist-packages/tensorflow_core/python/ops/resource_variable_ops.py:1630: calling BaseResourceVariable.__init__ (from tensorflow.python.ops.resource_variable_ops) with constraint is deprecated and will be removed in a future version.\n",
            "Instructions for updating:\n",
            "If using Keras pass *_constraint arguments to layers.\n",
            "Model: \"sequential\"\n",
            "_________________________________________________________________\n",
            "Layer (type)                 Output Shape              Param #   \n",
            "=================================================================\n",
            "dense (Dense)                (None, 128)               100480    \n",
            "_________________________________________________________________\n",
            "dense_1 (Dense)              (None, 128)               16512     \n",
            "_________________________________________________________________\n",
            "dense_2 (Dense)              (None, 10)                1290      \n",
            "=================================================================\n",
            "Total params: 118,282\n",
            "Trainable params: 118,282\n",
            "Non-trainable params: 0\n",
            "_________________________________________________________________\n",
            "Train on 60000 samples, validate on 10000 samples\n",
            "Epoch 1/10\n",
            "60000/60000 [==============================] - 2s 41us/sample - loss: 2.9050 - acc: 0.7516 - val_loss: 1.0678 - val_acc: 0.7636\n",
            "Epoch 2/10\n",
            "60000/60000 [==============================] - 2s 37us/sample - loss: 0.6942 - acc: 0.8051 - val_loss: 0.6524 - val_acc: 0.8079\n",
            "Epoch 3/10\n",
            "60000/60000 [==============================] - 2s 37us/sample - loss: 0.5341 - acc: 0.8278 - val_loss: 0.5762 - val_acc: 0.8244\n",
            "Epoch 4/10\n",
            "60000/60000 [==============================] - 2s 37us/sample - loss: 0.4820 - acc: 0.8376 - val_loss: 0.6522 - val_acc: 0.7963\n",
            "Epoch 5/10\n",
            "60000/60000 [==============================] - 2s 37us/sample - loss: 0.4651 - acc: 0.8428 - val_loss: 0.4904 - val_acc: 0.8420\n",
            "Epoch 6/10\n",
            "60000/60000 [==============================] - 2s 37us/sample - loss: 0.4349 - acc: 0.8491 - val_loss: 0.5748 - val_acc: 0.8178\n",
            "Epoch 7/10\n",
            "60000/60000 [==============================] - 2s 37us/sample - loss: 0.4326 - acc: 0.8496 - val_loss: 0.5071 - val_acc: 0.8416\n",
            "Epoch 8/10\n",
            "60000/60000 [==============================] - 2s 37us/sample - loss: 0.4135 - acc: 0.8550 - val_loss: 0.5228 - val_acc: 0.8336\n",
            "Epoch 9/10\n",
            "60000/60000 [==============================] - 2s 37us/sample - loss: 0.4114 - acc: 0.8566 - val_loss: 0.4910 - val_acc: 0.8466\n",
            "Epoch 10/10\n",
            "60000/60000 [==============================] - 2s 37us/sample - loss: 0.3838 - acc: 0.8640 - val_loss: 0.4610 - val_acc: 0.8496\n",
            "10000/10000 [==============================] - 1s 63us/sample - loss: 0.4610 - acc: 0.8496\n",
            "\n",
            "Testing accuracy is :  84.96000170707703\n",
            "dict_keys(['loss', 'acc', 'val_loss', 'val_acc'])\n"
          ],
          "name": "stdout"
        },
        {
          "output_type": "display_data",
          "data": {
            "image/png": "[encoded data removed]",
            "text/plain": [
              "<Figure size 432x288 with 1 Axes>"
            ]
          },
          "metadata": {
            "tags": []
          }
        },
        {
          "output_type": "display_data",
          "data": {
            "image/png": "[encoded data removed]",
            "text/plain": [
              "<Figure size 432x288 with 1 Axes>"
            ]
          },
          "metadata": {
            "tags": []
          }
        },
        {
          "output_type": "stream",
          "text": [
            "Confusion matrix is\n",
            " [[864   4  16  36   3   1  61   0  15   0]\n",
            " [  5 938   1  43   5   0   6   0   2   0]\n",
            " [ 32   0 739   9 175   0  41   0   4   0]\n",
            " [ 53  11  11 866  29   0  24   0   6   0]\n",
            " [  0   0  91  49 826   0  30   0   4   0]\n",
            " [  1   0   1   0   0 939   0  39   4  16]\n",
            " [194   0 119  26 155   0 484   0  22   0]\n",
            " [  0   0   0   0   0  28   0 948   2  22]\n",
            " [  8   0   1   1   5   4   7   3 971   0]\n",
            " [  0   0   0   0   0  21   1  57   0 921]]\n"
          ],
          "name": "stdout"
        }
      ]
    },
    {
      "cell_type": "markdown",
      "metadata": {
        "id": "2P46wj4n0Trj",
        "colab_type": "text"
      },
      "source": [
        "**CONVOLUTIONAL NEURAL NETWORK**"
      ]
    },
    {
      "cell_type": "code",
      "metadata": {
        "id": "fZbbWXNngfDJ",
        "colab_type": "code",
        "colab": {}
      },
      "source": [
        "def load_mnist(path, kind='train'):\n",
        "    import os\n",
        "    import gzip\n",
        "    import numpy as np\n",
        "\n",
        "    \"\"\"Load MNIST data from `path`\"\"\"\n",
        "    labels_path = os.path.join(path,\n",
        "                               '%s-labels-idx1-ubyte.gz'\n",
        "                               % kind)\n",
        "    images_path = os.path.join(path,\n",
        "                               '%s-images-idx3-ubyte.gz'\n",
        "                               % kind)\n",
        "\n",
        "    with gzip.open(labels_path, 'rb') as lbpath:\n",
        "        labels = np.frombuffer(lbpath.read(), dtype=np.uint8,\n",
        "                               offset=8)\n",
        "\n",
        "    with gzip.open(images_path, 'rb') as imgpath:\n",
        "        images = np.frombuffer(imgpath.read(), dtype=np.uint8,\n",
        "                               offset=16).reshape(len(labels), 784)\n",
        "\n",
        "    return images, labels"
      ],
      "execution_count": 0,
      "outputs": []
    },
    {
      "cell_type": "code",
      "metadata": {
        "id": "ESLzg7LW0ewU",
        "colab_type": "code",
        "colab": {}
      },
      "source": [
        "X_train, y_train = load_mnist('data/fashion', kind='train')\n",
        "X_test, y_test = load_mnist('data/fashion', kind='t10k')"
      ],
      "execution_count": 0,
      "outputs": []
    },
    {
      "cell_type": "code",
      "metadata": {
        "id": "GY2MFajN0g3_",
        "colab_type": "code",
        "colab": {}
      },
      "source": [
        "X_train = X_train/255\n",
        "X_test = X_test/255"
      ],
      "execution_count": 0,
      "outputs": []
    },
    {
      "cell_type": "code",
      "metadata": {
        "id": "eDBtMZFd0iwt",
        "colab_type": "code",
        "colab": {}
      },
      "source": [
        "#reshape data to fit model\n",
        "X_train = X_train.reshape(60000,28,28,1)\n",
        "X_test = X_test.reshape(10000,28,28,1)"
      ],
      "execution_count": 0,
      "outputs": []
    },
    {
      "cell_type": "code",
      "metadata": {
        "id": "ykHKiz0T0kaM",
        "colab_type": "code",
        "outputId": "1b1feefe-4d33-474e-ad3e-36770c3f4745",
        "colab": {
          "base_uri": "https://localhost:8080/",
          "height": 50
        }
      },
      "source": [
        "from keras.utils import to_categorical\n",
        "#one-hot encode target column\n",
        "y_train = to_categorical(y_train)\n",
        "y_test = to_categorical(y_test)\n",
        "y_train[0]"
      ],
      "execution_count": 5,
      "outputs": [
        {
          "output_type": "stream",
          "text": [
            "Using TensorFlow backend.\n"
          ],
          "name": "stderr"
        },
        {
          "output_type": "execute_result",
          "data": {
            "text/plain": [
              "array([0., 0., 0., 0., 0., 0., 0., 0., 0., 1.], dtype=float32)"
            ]
          },
          "metadata": {
            "tags": []
          },
          "execution_count": 5
        }
      ]
    },
    {
      "cell_type": "code",
      "metadata": {
        "id": "FqQ7PBS60mUe",
        "colab_type": "code",
        "outputId": "88333801-dd70-49e2-b2ca-2f6ee7239131",
        "colab": {
          "base_uri": "https://localhost:8080/",
          "height": 1000
        }
      },
      "source": [
        "from keras.models import Sequential\n",
        "from keras.layers import Dense, Conv2D, Flatten\n",
        "from keras.callbacks import TensorBoard\n",
        "import os\n",
        "import numpy as np\n",
        "import matplotlib.pyplot as plt\n",
        "from sklearn.metrics import confusion_matrix\n",
        "\n",
        "#create model\n",
        "model = Sequential()\n",
        "\n",
        "#add model layers\n",
        "model.add(Conv2D(64, kernel_size=3, activation='relu', input_shape=(28,28,1)))\n",
        "model.add(Conv2D(32, kernel_size=3, activation='relu'))\n",
        "model.add(Flatten())\n",
        "model.add(Dense(10, activation='softmax'))\n",
        "\n",
        "#compile model using accuracy to measure model performance\n",
        "model.compile(optimizer='adam', loss='categorical_crossentropy', metrics=['accuracy'])\n",
        "\n",
        "#train the model\n",
        "history = model.fit(X_train, y_train, validation_data=(X_test, y_test), epochs=8)\n",
        "\n",
        "test_loss, test_accuracy = model.evaluate(X_test, y_test)\n",
        "print(\"\\nTesting accuracy is : \", test_accuracy * 100)\n",
        "\n",
        "# list all data in history\n",
        "print(history.history.keys())\n",
        "\n",
        "# summarize history for accuracy\n",
        "plt.plot(history.history['acc'])\n",
        "plt.plot(history.history['val_acc'])\n",
        "plt.title('Model accuracy')\n",
        "plt.ylabel('Accuracy')\n",
        "plt.xlabel('Epochs')\n",
        "plt.legend(['Train', 'Test'], loc='upper left')\n",
        "plt.show()\n",
        "\n",
        "# summarize history for loss\n",
        "plt.plot(history.history['loss'])\n",
        "plt.plot(history.history['val_loss'])\n",
        "plt.title('Model loss')\n",
        "plt.ylabel('Loss')\n",
        "plt.xlabel('Epochs')\n",
        "plt.legend(['Train', 'Test'], loc='upper left')\n",
        "plt.show()\n",
        "\n",
        "# Predicting the Test set results\n",
        "y_pred = model.predict(X_test)\n",
        "rounded_labels=np.argmax(y_test, axis=1)\n",
        "cm = confusion_matrix(rounded_labels, y_pred.argmax(axis=1))\n",
        "print(\"Confusion matrix is\\n\", cm)"
      ],
      "execution_count": 6,
      "outputs": [
        {
          "output_type": "stream",
          "text": [
            "WARNING:tensorflow:From /usr/local/lib/python3.6/dist-packages/keras/backend/tensorflow_backend.py:66: The name tf.get_default_graph is deprecated. Please use tf.compat.v1.get_default_graph instead.\n",
            "\n",
            "WARNING:tensorflow:From /usr/local/lib/python3.6/dist-packages/keras/backend/tensorflow_backend.py:541: The name tf.placeholder is deprecated. Please use tf.compat.v1.placeholder instead.\n",
            "\n",
            "WARNING:tensorflow:From /usr/local/lib/python3.6/dist-packages/keras/backend/tensorflow_backend.py:4432: The name tf.random_uniform is deprecated. Please use tf.random.uniform instead.\n",
            "\n",
            "WARNING:tensorflow:From /usr/local/lib/python3.6/dist-packages/keras/optimizers.py:793: The name tf.train.Optimizer is deprecated. Please use tf.compat.v1.train.Optimizer instead.\n",
            "\n",
            "WARNING:tensorflow:From /usr/local/lib/python3.6/dist-packages/keras/backend/tensorflow_backend.py:3576: The name tf.log is deprecated. Please use tf.math.log instead.\n",
            "\n",
            "WARNING:tensorflow:From /usr/local/lib/python3.6/dist-packages/tensorflow_core/python/ops/math_grad.py:1424: where (from tensorflow.python.ops.array_ops) is deprecated and will be removed in a future version.\n",
            "Instructions for updating:\n",
            "Use tf.where in 2.0, which has the same broadcast rule as np.where\n",
            "WARNING:tensorflow:From /usr/local/lib/python3.6/dist-packages/keras/backend/tensorflow_backend.py:1033: The name tf.assign_add is deprecated. Please use tf.compat.v1.assign_add instead.\n",
            "\n",
            "WARNING:tensorflow:From /usr/local/lib/python3.6/dist-packages/keras/backend/tensorflow_backend.py:1020: The name tf.assign is deprecated. Please use tf.compat.v1.assign instead.\n",
            "\n",
            "WARNING:tensorflow:From /usr/local/lib/python3.6/dist-packages/keras/backend/tensorflow_backend.py:3005: The name tf.Session is deprecated. Please use tf.compat.v1.Session instead.\n",
            "\n",
            "Train on 60000 samples, validate on 10000 samples\n",
            "Epoch 1/8\n",
            "WARNING:tensorflow:From /usr/local/lib/python3.6/dist-packages/keras/backend/tensorflow_backend.py:190: The name tf.get_default_session is deprecated. Please use tf.compat.v1.get_default_session instead.\n",
            "\n",
            "WARNING:tensorflow:From /usr/local/lib/python3.6/dist-packages/keras/backend/tensorflow_backend.py:197: The name tf.ConfigProto is deprecated. Please use tf.compat.v1.ConfigProto instead.\n",
            "\n",
            "WARNING:tensorflow:From /usr/local/lib/python3.6/dist-packages/keras/backend/tensorflow_backend.py:207: The name tf.global_variables is deprecated. Please use tf.compat.v1.global_variables instead.\n",
            "\n",
            "WARNING:tensorflow:From /usr/local/lib/python3.6/dist-packages/keras/backend/tensorflow_backend.py:216: The name tf.is_variable_initialized is deprecated. Please use tf.compat.v1.is_variable_initialized instead.\n",
            "\n",
            "WARNING:tensorflow:From /usr/local/lib/python3.6/dist-packages/keras/backend/tensorflow_backend.py:223: The name tf.variables_initializer is deprecated. Please use tf.compat.v1.variables_initializer instead.\n",
            "\n",
            "60000/60000 [==============================] - 20s 341us/step - loss: 0.3900 - acc: 0.8607 - val_loss: 0.3066 - val_acc: 0.8886\n",
            "Epoch 2/8\n",
            "60000/60000 [==============================] - 19s 312us/step - loss: 0.2652 - acc: 0.9055 - val_loss: 0.3050 - val_acc: 0.8895\n",
            "Epoch 3/8\n",
            "60000/60000 [==============================] - 19s 312us/step - loss: 0.2151 - acc: 0.9215 - val_loss: 0.2928 - val_acc: 0.8944\n",
            "Epoch 4/8\n",
            "60000/60000 [==============================] - 19s 311us/step - loss: 0.1771 - acc: 0.9359 - val_loss: 0.2579 - val_acc: 0.9110\n",
            "Epoch 5/8\n",
            "60000/60000 [==============================] - 19s 312us/step - loss: 0.1440 - acc: 0.9477 - val_loss: 0.2549 - val_acc: 0.9145\n",
            "Epoch 6/8\n",
            "60000/60000 [==============================] - 19s 313us/step - loss: 0.1172 - acc: 0.9577 - val_loss: 0.2899 - val_acc: 0.9056\n",
            "Epoch 7/8\n",
            "60000/60000 [==============================] - 19s 312us/step - loss: 0.0975 - acc: 0.9652 - val_loss: 0.3112 - val_acc: 0.9087\n",
            "Epoch 8/8\n",
            "60000/60000 [==============================] - 19s 315us/step - loss: 0.0808 - acc: 0.9703 - val_loss: 0.3316 - val_acc: 0.9089\n",
            "10000/10000 [==============================] - 1s 106us/step\n",
            "\n",
            "Testing accuracy is :  90.89\n",
            "dict_keys(['val_loss', 'val_acc', 'loss', 'acc'])\n"
          ],
          "name": "stdout"
        },
        {
          "output_type": "display_data",
          "data": {
            "image/png": "[encoded data removed]",
            "text/plain": [
              "<Figure size 432x288 with 1 Axes>"
            ]
          },
          "metadata": {
            "tags": []
          }
        },
        {
          "output_type": "display_data",
          "data": {
            "image/png": "[encoded data removed]",
            "text/plain": [
              "<Figure size 432x288 with 1 Axes>"
            ]
          },
          "metadata": {
            "tags": []
          }
        },
        {
          "output_type": "stream",
          "text": [
            "Confusion matrix is\n",
            " [[884   2  19  17   1   1  73   0   3   0]\n",
            " [  2 979   2  10   2   0   2   0   3   0]\n",
            " [ 17   1 859   9  53   0  60   0   1   0]\n",
            " [ 25   5  19 906  28   0  16   0   1   0]\n",
            " [  2   1  46  30 857   0  62   0   2   0]\n",
            " [  0   0   0   1   0 981   0  15   0   3]\n",
            " [150   0  49  28  60   0 704   0   9   0]\n",
            " [  0   0   0   0   0   5   0 979   0  16]\n",
            " [  3   1   5   4   3   1   5   2 975   1]\n",
            " [  1   0   0   0   0   7   0  27   0 965]]\n"
          ],
          "name": "stdout"
        }
      ]
    },
    {
      "cell_type": "code",
      "metadata": {
        "id": "BuPOodbS6J2s",
        "colab_type": "code",
        "colab": {}
      },
      "source": [
        ""
      ],
      "execution_count": 0,
      "outputs": []
    }
  ]
}